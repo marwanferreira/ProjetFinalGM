{
 "cells": [
  {
   "cell_type": "markdown",
   "id": "e383b426",
   "metadata": {},
   "source": [
    "# Partie 1 : Simulation du Pendule (commande non optimisée)\n",
    "\n",
    "Dans cette première partie du projet, nous modélisons et simulons numériquement le comportement d’un pendule simple.\n",
    "\n",
    "**Objectif** :  \n",
    "Simuler l’évolution du pendule à l’aide d’une commande externe fixée \\( h(t) \\), sans chercher à l’optimiser.\n",
    "\n",
    "Cela permet de :\n",
    "- Valider le **modèle physique** du pendule,\n",
    "- Vérifier le bon fonctionnement de la **méthode d’Euler explicite**,\n",
    "- Observer qualitativement la dynamique du système.\n",
    "\n",
    " Cette étape constitue un **préambule expérimental** avant de passer à l’optimisation du contrôle dans la Partie 2.\n"
   ]
  },
  {
   "cell_type": "markdown",
   "id": "5b0972aa",
   "metadata": {},
   "source": [
    "## Modèle dynamique du pendule\n",
    "\n",
    "Le pendule est modélisé par une équation différentielle du second ordre :\n",
    "\n",
    "\\[\n",
    "\\ddot{\\theta}(t) + \\frac{g}{l} \\sin(\\theta(t)) = h(t)\n",
    "\\]\n",
    "\n",
    "\n",
    "### Réduction à un système d’ordre 1\n",
    "\n",
    "Pour la simulation, on reformule cette équation comme un **système d’équations différentielles** du premier ordre :\n",
    "\n",
    "\\[\n",
    "\\begin{cases}\n",
    "\\dot{\\theta}(t) = \\omega(t) \\\\\n",
    "\\dot{\\omega}(t) = -\\frac{g}{l} \\sin(\\theta(t)) + h(t)\n",
    "\\end{cases}\n",
    "\\]\n",
    "\n",
    "Ce système est ensuite discrétisé numériquement avec la méthode d’Euler explicite.\n"
   ]
  },
  {
   "cell_type": "code",
   "execution_count": null,
   "id": "3e4e0d91",
   "metadata": {},
   "outputs": [],
   "source": [
    "import numpy as np\n",
    "import matplotlib.pyplot as plt\n",
    "\n",
    "# === Paramètres physiques ===\n",
    "g = 9.81     # gravité (m/s²)\n",
    "l = 1.0      # longueur du pendule (m)\n",
    "T = 1.0      # durée totale (s)\n",
    "N = 200      # nombre de pas\n",
    "dt = T / N   # pas de temps\n",
    "time = np.linspace(0, T, N+1)\n",
    "\n",
    "# === Conditions initiales ===\n",
    "theta0 = 1.0         # angle initial (rad)\n",
    "theta_dot0 = 0.0     # vitesse initiale (rad/s)\n",
    "\n",
    "# === Commande imposée (non optimisée) ===\n",
    "def h(t):\n",
    "    return 0.1 * np.cos(2 * np.pi * t)\n",
    "\n",
    "# === Initialisation des états ===\n",
    "theta = np.zeros(N+1)\n",
    "theta_dot = np.zeros(N+1)\n",
    "theta[0] = theta0\n",
    "theta_dot[0] = theta_dot0\n",
    "\n",
    "# === Intégration par Euler explicite ===\n",
    "for n in range(N):\n",
    "    theta[n+1] = theta[n] + dt * theta_dot[n]\n",
    "    theta_dot[n+1] = theta_dot[n] + dt * (-g/l * np.sin(theta[n]) + h(time[n]))\n"
   ]
  },
  {
   "cell_type": "code",
   "execution_count": null,
   "id": "82064c9d",
   "metadata": {},
   "outputs": [],
   "source": [
    "plt.figure(figsize=(12, 6))\n",
    "\n",
    "plt.subplot(2, 1, 1)\n",
    "plt.plot(time, theta, label=\"θ(t)\", color='blue')\n",
    "plt.title(\"Angle θ(t) du pendule (Euler explicite)\")\n",
    "plt.xlabel(\"Temps (s)\")\n",
    "plt.ylabel(\"θ(t)\")\n",
    "plt.grid(True)\n",
    "plt.legend()\n",
    "\n",
    "plt.subplot(2, 1, 2)\n",
    "plt.plot(time, theta_dot, label=\"θ̇(t)\", color='orange')\n",
    "plt.title(\"Vitesse angulaire θ̇(t) du pendule\")\n",
    "plt.xlabel(\"Temps (s)\")\n",
    "plt.ylabel(\"θ̇(t)\")\n",
    "plt.grid(True)\n",
    "plt.legend()\n",
    "\n",
    "plt.tight_layout()\n",
    "plt.show()\n"
   ]
  },
  {
   "cell_type": "markdown",
   "id": "d848aeb6",
   "metadata": {},
   "source": [
    "## Visualisation enregistrée\n",
    "\n",
    "Ci-dessous, une figure générée par le script `pendule_test_gradient_v1.py` :\n",
    "\n",
    "![pendule_test_gradient_v1.png](figures_partie1/pendule_test_gradient_v1.png)\n"
   ]
  },
  {
   "cell_type": "markdown",
   "id": "7924bcb2",
   "metadata": {},
   "source": [
    "## Analyse des résultats\n",
    "\n",
    "On observe que :\n",
    "\n",
    "- Le pendule **oscille naturellement** autour de sa position initiale.\n",
    "- La commande choisie \\( h(t) = 0.1 \\cos(2\\pi t) \\) injecte de l’énergie périodiquement dans le système.\n",
    "- La trajectoire \\( \\theta(t) \\) ne converge **pas vers 0**, ce qui confirme que **l’équilibre n’est pas atteint**.\n",
    "- Le système **reste dynamique** tout au long de l’intervalle.\n",
    "\n",
    "---\n",
    "\n",
    "## Conclusion\n",
    "\n",
    "Cette simulation constitue une **étape de validation essentielle** :\n",
    "- Elle montre que le modèle physique est bien codé,\n",
    "- Que le schéma d’Euler explicite fonctionne,\n",
    "- Et que la commande actuelle ne permet pas de stabiliser le système.\n",
    "\n",
    "Dans la Partie 2, on cherchera à **calculer une commande optimale** qui ramène le pendule à l’état d’équilibre \\( (\\theta, \\dot{\\theta}) = (0, 0) \\) tout en minimisant l’énergie.\n"
   ]
  }
 ],
 "metadata": {
  "language_info": {
   "name": "python"
  }
 },
 "nbformat": 4,
 "nbformat_minor": 5
}
