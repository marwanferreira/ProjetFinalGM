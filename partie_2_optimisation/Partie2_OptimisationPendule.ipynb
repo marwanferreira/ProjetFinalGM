{
 "cells": [
  {
   "cell_type": "markdown",
   "id": "97ce67ea",
   "metadata": {},
   "source": [
    "\n",
    "# Partie 2 : Optimisation du Retour à l’Équilibre\n",
    "\n",
    "## Objectif\n",
    "\n",
    "Dans cette partie, l’objectif est de **ramener un pendule en position d’équilibre stable** \\((\\theta, \\dot{\\theta}) = (0, 0)\\) à un instant final donné \\( T = 1 \\), en déterminant une commande optimale \\( h(t) \\).\n",
    "\n",
    "La commande doit permettre ce retour **tout en minimisant une fonction de coût** représentant l’énergie ou l'effort de contrôle.\n"
   ]
  },
  {
   "cell_type": "markdown",
   "id": "9b4fb14a",
   "metadata": {},
   "source": [
    "\n",
    "## Méthodologie\n",
    "\n",
    "Le problème est formulé comme une **optimisation dynamique** discrétisée à l’aide de la méthode d’Euler explicite.  \n",
    "L’optimisation se fait par **descente de gradient** sur le vecteur de commande \\( h = (h_0, \\dots, h_{N-1}) \\).\n",
    "\n",
    "### Modèle utilisé :\n",
    "\n",
    "\\[\n",
    "\\ddot{\\theta}(t) + \\frac{g}{l} \\sin(\\theta(t)) = h(t)\n",
    "\\]\n",
    "\n",
    "Réécrit comme un système du premier ordre et résolu numériquement.\n"
   ]
  },
  {
   "cell_type": "markdown",
   "id": "a23364d8",
   "metadata": {},
   "source": [
    "\n",
    "## Expériences réalisées\n",
    "\n",
    "Trois variantes d’optimisation ont été comparées :\n",
    "\n",
    "### 1. `pendule_gradient_cosinus_sans_contrainte.py`\n",
    "- Commande initiale en cosinus, sans contrainte finale.\n",
    "- Permet de tester la descente de gradient sur \\( h \\) avec une fonction coût simple :  \n",
    "  \\[\n",
    "  J(h) = \\int_0^1 h(t)^2 \\,dt\n",
    "  \\]\n",
    "- Utilisée pour valider l'algorithme, mais **ne permet pas d’atteindre l’équilibre**.\n",
    "\n",
    "  ![Résultat sans contrainte](figures_partie2/pendule_gradient_cosinus_sans_contrainte.png)\n",
    "\n",
    "### 2. `pendule_gradient_contrainte_finale.py`\n",
    "- Version avec **contraintes terminales fortes**, imposées via des multiplicateurs de Lagrange \\((\\mu_1, \\mu_2)\\).\n",
    "- Plus efficace, mais nécessite un **réglage manuel** des multiplicateurs, ce qui peut déstabiliser l’optimisation.\n",
    "\n",
    "  ![Résultat avec contrainte finale](figures_partie2/pendule_gradient_contrainte_finale.png)\n",
    "\n",
    "### 3. `pendule_gradient_contrainte_quadratique.py` ✅ **(version retenue)**\n",
    "- On pénalise directement \\( \\theta(T)^2 \\) et \\( \\dot{\\theta}(T)^2 \\) dans la fonction coût :  \n",
    "  \\[\n",
    "  J(h) = \\int_0^1 h(t)^2 \\,dt + \\lambda_1 \\cdot \\theta(T)^2 + \\lambda_2 \\cdot \\dot{\\theta}(T)^2\n",
    "  \\]\n",
    "- Formulation **plus souple et mathématiquement propre**.\n",
    "- Fournit une commande lisse, efficace, et un retour progressif à l'équilibre.\n",
    "\n",
    "  ![Résultat avec pénalisation quadratique](figures_partie2/pendule_gradient_contrainte_quadratique.png)\n"
   ]
  },
  {
   "cell_type": "markdown",
   "id": "e430b557",
   "metadata": {},
   "source": [
    "\n",
    "## Conclusion\n",
    "\n",
    "Cette deuxième partie a permis de comparer plusieurs stratégies de commande optimale pour ramener un pendule à l’équilibre.\n",
    "\n",
    "La version finale utilisant une **pénalisation quadratique de l’état final** s’est révélée être la meilleure approche. Elle permet :\n",
    "- de **revenir précisément à l’équilibre**,\n",
    "- avec une **commande de faible amplitude**,\n",
    "- et une **implémentation robuste**.\n",
    "\n",
    "Elle constituera la base idéale pour étudier des extensions plus complexes dans la suite du projet (non-linéarités fortes, amortissement, etc.).\n"
   ]
  }
 ],
 "metadata": {
  "language_info": {
   "name": "python"
  }
 },
 "nbformat": 4,
 "nbformat_minor": 5
}
